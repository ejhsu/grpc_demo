{
 "cells": [
  {
   "cell_type": "code",
   "execution_count": 2,
   "metadata": {},
   "outputs": [],
   "source": [
    "less demo.proto"
   ]
  },
  {
   "cell_type": "code",
   "execution_count": 3,
   "metadata": {},
   "outputs": [],
   "source": [
    "!python3 -m grpc_tools.protoc --python_out=. --grpc_python_out=. -I=. demo.proto "
   ]
  },
  {
   "cell_type": "code",
   "execution_count": null,
   "metadata": {},
   "outputs": [],
   "source": [
    "# %load demo_server.py\n",
    "from concurrent import futures\n",
    "import time\n",
    "\n",
    "import grpc\n",
    "\n",
    "import demo_pb2\n",
    "import demo_pb2_grpc\n",
    "\n",
    "_ONE_DAY_IN_SECONDS = 60 * 60 * 24\n",
    "\n",
    "\n",
    "class DemoServicer(demo_pb2_grpc.DemoServicer):\n",
    "\n",
    "  def HelloOnce(self, request, context):\n",
    "    return demo_pb2.HelloResponse(message='Received your message: {}'.format(request.message))\n",
    "\n",
    "  def LotsOfReplies(self, request, context):\n",
    "    for c in request.message:\n",
    "      time.sleep(1)\n",
    "      yield demo_pb2.HelloResponse(message=c)\n",
    "\n",
    "  def LotsOfHello(self, request_iterator, context):\n",
    "    reply = ''\n",
    "    for request in request_iterator:\n",
    "      reply += request.message\n",
    "    return demo_pb2.HelloResponse(message='Received your message: {}'.format(reply))\n",
    "\n",
    "  def RepeatBot(self, request_iterator, context):\n",
    "    received_message = ''\n",
    "    for request in request_iterator:\n",
    "      received_message += request.message\n",
    "      yield demo_pb2.HelloResponse(message='Received your message: {}'.format(request.message))\n",
    "\n",
    "    yield demo_pb2.HelloResponse(message='total length: {}'.format(len(received_message)))\n",
    "\n",
    "\n",
    "def serve():\n",
    "  server = grpc.server(futures.ThreadPoolExecutor(max_workers=10))\n",
    "  demo_pb2_grpc.add_DemoServicer_to_server(DemoServicer(), server)\n",
    "  server.add_insecure_port('localhost:50051')\n",
    "  server.start()\n",
    "  try:\n",
    "    while True:\n",
    "      time.sleep(_ONE_DAY_IN_SECONDS)\n",
    "  except KeyboardInterrupt:\n",
    "    server.stop(0)\n",
    "\n",
    "\n",
    "if __name__ == '__main__':\n",
    "  serve()\n"
   ]
  },
  {
   "cell_type": "code",
   "execution_count": null,
   "metadata": {},
   "outputs": [],
   "source": []
  }
 ],
 "metadata": {
  "kernelspec": {
   "display_name": "Python 3",
   "language": "python",
   "name": "python3"
  },
  "language_info": {
   "codemirror_mode": {
    "name": "ipython",
    "version": 3
   },
   "file_extension": ".py",
   "mimetype": "text/x-python",
   "name": "python",
   "nbconvert_exporter": "python",
   "pygments_lexer": "ipython3",
   "version": "3.6.3"
  }
 },
 "nbformat": 4,
 "nbformat_minor": 2
}
