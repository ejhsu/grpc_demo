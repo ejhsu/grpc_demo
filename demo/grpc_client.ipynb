{
 "cells": [
  {
   "cell_type": "code",
   "execution_count": 8,
   "metadata": {},
   "outputs": [],
   "source": [
    "# %load demo_client.py\n",
    "import time\n",
    "\n",
    "import grpc\n",
    "\n",
    "import demo_pb2\n",
    "import demo_pb2_grpc\n",
    "\n",
    "\n",
    "def run():\n",
    "  channel = grpc.insecure_channel('localhost:50051')\n",
    "  stub = demo_pb2_grpc.DemoStub(channel)\n",
    "  return stub\n",
    "\n",
    "def helloOnce(stub, message):\n",
    "  print('Sending {}'.format(message))\n",
    "  response = stub.HelloOnce(demo_pb2.HelloRequest(message=message))\n",
    "  print('Response message from server: {}'.format(response.message))\n",
    "\n",
    "def lotsOfReplies(stub, message):\n",
    "  print('Sending {}'.format(message))\n",
    "  response_iterator = stub.LotsOfReplies(demo_pb2.HelloRequest(message=message))\n",
    "  for response in response_iterator:\n",
    "    print('Response message from server: {}'.format(response.message))\n",
    "\n",
    "def lotsOfHello(stub):\n",
    "  response = stub.LotsOfHello(generate_messages())\n",
    "  print('Response message from server: {}'.format(response.message))\n",
    "  \n",
    "def repeatBot(stub):\n",
    "  # bi-directional streaming\n",
    "  response_iterator = stub.RepeatBot(generate_messages())\n",
    "  for response in response_iterator:\n",
    "    print('Response message from server: {}'.format(response.message))\n",
    "  print('return')\n",
    "\n",
    "\n",
    "def generate_messages():\n",
    "  messages = [demo_pb2.HelloRequest(message=c) for c in 'hello, world!']\n",
    "  for msg in messages:\n",
    "    print('Sending {}'.format(msg.message))\n",
    "    yield msg\n",
    "    time.sleep(0.5)\n",
    "\n",
    "if __name__ == '__main__':\n",
    "  stub = run()\n",
    "  message = 'Hello, world!'\n"
   ]
  },
  {
   "cell_type": "code",
   "execution_count": 12,
   "metadata": {},
   "outputs": [
    {
     "name": "stdout",
     "output_type": "stream",
     "text": [
      "Sending Hello, world!\n",
      "Response message from server: Received your message: Hello, world!\n"
     ]
    }
   ],
   "source": [
    "helloOnce(stub, message)"
   ]
  },
  {
   "cell_type": "code",
   "execution_count": 3,
   "metadata": {},
   "outputs": [
    {
     "name": "stdout",
     "output_type": "stream",
     "text": [
      "Sending Hello, world!\n",
      "Response message from server: H\n",
      "Response message from server: e\n",
      "Response message from server: l\n",
      "Response message from server: l\n",
      "Response message from server: o\n",
      "Response message from server: ,\n",
      "Response message from server:  \n",
      "Response message from server: w\n",
      "Response message from server: o\n",
      "Response message from server: r\n",
      "Response message from server: l\n",
      "Response message from server: d\n",
      "Response message from server: !\n"
     ]
    }
   ],
   "source": [
    "lotsOfReplies(stub, message)"
   ]
  },
  {
   "cell_type": "code",
   "execution_count": 4,
   "metadata": {},
   "outputs": [
    {
     "name": "stdout",
     "output_type": "stream",
     "text": [
      "Sending h\n",
      "Sending e\n",
      "Sending l\n",
      "Sending l\n",
      "Sending o\n",
      "Sending ,\n",
      "Sending  \n",
      "Sending w\n",
      "Sending o\n",
      "Sending r\n",
      "Sending l\n",
      "Sending d\n",
      "Sending !\n",
      "Response message from server: Received your message: hello, world!\n"
     ]
    }
   ],
   "source": [
    "lotsOfHello(stub)"
   ]
  },
  {
   "cell_type": "code",
   "execution_count": 10,
   "metadata": {},
   "outputs": [
    {
     "name": "stdout",
     "output_type": "stream",
     "text": [
      "Sending h\n",
      "Response message from server: Received your message: h\n",
      "Sending e\n",
      "Response message from server: Received your message: e\n",
      "Sending l\n",
      "Response message from server: Received your message: l\n",
      "Sending l\n",
      "Response message from server: Received your message: l\n",
      "Sending o\n",
      "Response message from server: Received your message: o\n",
      "Sending ,\n",
      "Response message from server: Received your message: ,\n",
      "Sending  \n",
      "Response message from server: Received your message:  \n",
      "Sending w\n",
      "Response message from server: Received your message: w\n",
      "Sending o\n",
      "Response message from server: Received your message: o\n",
      "Sending r\n",
      "Response message from server: Received your message: r\n",
      "Sending l\n",
      "Response message from server: Received your message: l\n",
      "Sending d\n",
      "Response message from server: Received your message: d\n",
      "Sending !\n",
      "Response message from server: Received your message: !\n",
      "Response message from server: total length: 13\n",
      "return\n"
     ]
    }
   ],
   "source": [
    "repeatBot(stub)"
   ]
  },
  {
   "cell_type": "code",
   "execution_count": null,
   "metadata": {},
   "outputs": [],
   "source": []
  }
 ],
 "metadata": {
  "kernelspec": {
   "display_name": "Python 3",
   "language": "python",
   "name": "python3"
  },
  "language_info": {
   "codemirror_mode": {
    "name": "ipython",
    "version": 3
   },
   "file_extension": ".py",
   "mimetype": "text/x-python",
   "name": "python",
   "nbconvert_exporter": "python",
   "pygments_lexer": "ipython3",
   "version": "3.6.3"
  }
 },
 "nbformat": 4,
 "nbformat_minor": 2
}
